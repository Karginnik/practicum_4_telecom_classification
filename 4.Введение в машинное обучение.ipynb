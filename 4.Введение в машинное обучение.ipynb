{
 "cells": [
  {
   "cell_type": "markdown",
   "metadata": {},
   "source": [
    "# Рекомендация тарифов"
   ]
  },
  {
   "cell_type": "markdown",
   "metadata": {},
   "source": [
    "В вашем распоряжении данные о поведении клиентов, которые уже перешли на эти тарифы (из проекта курса «Статистический анализ данных»). Нужно построить модель для задачи классификации, которая выберет подходящий тариф. Предобработка данных не понадобится — вы её уже сделали.\n",
    "\n",
    "Постройте модель с максимально большим значением *accuracy*. Чтобы сдать проект успешно, нужно довести долю правильных ответов по крайней мере до 0.75. Проверьте *accuracy* на тестовой выборке самостоятельно."
   ]
  },
  {
   "cell_type": "markdown",
   "metadata": {},
   "source": [
    "## Откройте и изучите файл"
   ]
  },
  {
   "cell_type": "markdown",
   "metadata": {},
   "source": [
    "Импортируем необходимые библиотеки"
   ]
  },
  {
   "cell_type": "code",
   "execution_count": 1,
   "metadata": {},
   "outputs": [],
   "source": [
    "import pandas as pd\n",
    "from sklearn.tree import DecisionTreeClassifier\n",
    "from sklearn.ensemble import RandomForestClassifier\n",
    "from sklearn.linear_model import LogisticRegression\n",
    "from sklearn.model_selection import train_test_split\n",
    "from sklearn.metrics import accuracy_score\n",
    "from sklearn.dummy import DummyClassifier"
   ]
  },
  {
   "cell_type": "markdown",
   "metadata": {},
   "source": [
    "Загрузим датафрейм и выведем его первые 5 строк"
   ]
  },
  {
   "cell_type": "code",
   "execution_count": 2,
   "metadata": {},
   "outputs": [
    {
     "data": {
      "text/html": [
       "<div>\n",
       "<style scoped>\n",
       "    .dataframe tbody tr th:only-of-type {\n",
       "        vertical-align: middle;\n",
       "    }\n",
       "\n",
       "    .dataframe tbody tr th {\n",
       "        vertical-align: top;\n",
       "    }\n",
       "\n",
       "    .dataframe thead th {\n",
       "        text-align: right;\n",
       "    }\n",
       "</style>\n",
       "<table border=\"1\" class=\"dataframe\">\n",
       "  <thead>\n",
       "    <tr style=\"text-align: right;\">\n",
       "      <th></th>\n",
       "      <th>calls</th>\n",
       "      <th>minutes</th>\n",
       "      <th>messages</th>\n",
       "      <th>mb_used</th>\n",
       "      <th>is_ultra</th>\n",
       "    </tr>\n",
       "  </thead>\n",
       "  <tbody>\n",
       "    <tr>\n",
       "      <th>0</th>\n",
       "      <td>40.0</td>\n",
       "      <td>311.90</td>\n",
       "      <td>83.0</td>\n",
       "      <td>19915.42</td>\n",
       "      <td>0</td>\n",
       "    </tr>\n",
       "    <tr>\n",
       "      <th>1</th>\n",
       "      <td>85.0</td>\n",
       "      <td>516.75</td>\n",
       "      <td>56.0</td>\n",
       "      <td>22696.96</td>\n",
       "      <td>0</td>\n",
       "    </tr>\n",
       "    <tr>\n",
       "      <th>2</th>\n",
       "      <td>77.0</td>\n",
       "      <td>467.66</td>\n",
       "      <td>86.0</td>\n",
       "      <td>21060.45</td>\n",
       "      <td>0</td>\n",
       "    </tr>\n",
       "    <tr>\n",
       "      <th>3</th>\n",
       "      <td>106.0</td>\n",
       "      <td>745.53</td>\n",
       "      <td>81.0</td>\n",
       "      <td>8437.39</td>\n",
       "      <td>1</td>\n",
       "    </tr>\n",
       "    <tr>\n",
       "      <th>4</th>\n",
       "      <td>66.0</td>\n",
       "      <td>418.74</td>\n",
       "      <td>1.0</td>\n",
       "      <td>14502.75</td>\n",
       "      <td>0</td>\n",
       "    </tr>\n",
       "  </tbody>\n",
       "</table>\n",
       "</div>"
      ],
      "text/plain": [
       "   calls  minutes  messages   mb_used  is_ultra\n",
       "0   40.0   311.90      83.0  19915.42         0\n",
       "1   85.0   516.75      56.0  22696.96         0\n",
       "2   77.0   467.66      86.0  21060.45         0\n",
       "3  106.0   745.53      81.0   8437.39         1\n",
       "4   66.0   418.74       1.0  14502.75         0"
      ]
     },
     "execution_count": 2,
     "metadata": {},
     "output_type": "execute_result"
    }
   ],
   "source": [
    "try:   \n",
    "    data = pd.read_csv('/datasets/users_behavior.csv')\n",
    "except:\n",
    "    data = pd.read_csv('https://code.s3.yandex.net/datasets/users_behavior.csv')\n",
    "    \n",
    "data.head()"
   ]
  },
  {
   "cell_type": "markdown",
   "metadata": {},
   "source": [
    "Узнаем общую информацию про полученный датафрейм"
   ]
  },
  {
   "cell_type": "code",
   "execution_count": 3,
   "metadata": {
    "scrolled": false
   },
   "outputs": [
    {
     "name": "stdout",
     "output_type": "stream",
     "text": [
      "<class 'pandas.core.frame.DataFrame'>\n",
      "RangeIndex: 3214 entries, 0 to 3213\n",
      "Data columns (total 5 columns):\n",
      " #   Column    Non-Null Count  Dtype  \n",
      "---  ------    --------------  -----  \n",
      " 0   calls     3214 non-null   float64\n",
      " 1   minutes   3214 non-null   float64\n",
      " 2   messages  3214 non-null   float64\n",
      " 3   mb_used   3214 non-null   float64\n",
      " 4   is_ultra  3214 non-null   int64  \n",
      "dtypes: float64(4), int64(1)\n",
      "memory usage: 125.7 KB\n"
     ]
    }
   ],
   "source": [
    "data.info()"
   ]
  },
  {
   "cell_type": "markdown",
   "metadata": {},
   "source": [
    "## Разбейте данные на выборки"
   ]
  },
  {
   "cell_type": "markdown",
   "metadata": {},
   "source": [
    "Разделим исходные данные для обучения"
   ]
  },
  {
   "cell_type": "code",
   "execution_count": 4,
   "metadata": {},
   "outputs": [],
   "source": [
    "features = data.drop('is_ultra', axis=1)\n",
    "target = data['is_ultra']"
   ]
  },
  {
   "cell_type": "raw",
   "metadata": {},
   "source": [
    "Разделим исходные данные на обучающую, валидационную и тестовую выборки"
   ]
  },
  {
   "cell_type": "code",
   "execution_count": 5,
   "metadata": {},
   "outputs": [],
   "source": [
    "<img src=\"https://emojigraph.org/media/apple/check-mark-button_2705.png\" align=left width=33, heigth=33>\n",
    "<div class=\"alert alert-success\">\n",
    "<b>v2</b> 👍 </div>features_train, features_valid, target_train, target_valid = train_test_split(\n",
    "    features, target, test_size=0.2, random_state=12345, stratify=target)\n",
    "features_train, features_test, target_train, target_test = train_test_split(\n",
    "    features_train, target_train, test_size=0.25, random_state=12345, stratify=target_train)"
   ]
  },
  {
   "cell_type": "code",
   "execution_count": 6,
   "metadata": {},
   "outputs": [
    {
     "name": "stdout",
     "output_type": "stream",
     "text": [
      "Обучающуя выборка: (1928, 4) (1928,)\n",
      "Валидационнуя выборка: (643, 4) (643,)\n",
      "Тестовая выборка: (643, 4) (643,)\n"
     ]
    }
   ],
   "source": [
    "print('Обучающуя выборка:', features_train.shape, target_train.shape)\n",
    "print('Валидационнуя выборка:', features_valid.shape, target_valid.shape)\n",
    "print('Тестовая выборка:', features_test.shape, target_test.shape)"
   ]
  },
  {
   "cell_type": "markdown",
   "metadata": {},
   "source": [
    "Исходные данные разделены на 60%, 20% и 20%"
   ]
  },
  {
   "cell_type": "markdown",
   "metadata": {},
   "source": [
    "## Исследуйте модели"
   ]
  },
  {
   "cell_type": "markdown",
   "metadata": {},
   "source": [
    "Найдем accuracy наилучшей модели на валидационной выборке для дерева решений"
   ]
  },
  {
   "cell_type": "code",
   "execution_count": 7,
   "metadata": {},
   "outputs": [
    {
     "name": "stdout",
     "output_type": "stream",
     "text": [
      "Лучший параметр Accuracy 0.7993779160186625, значение глубины дерева 3\n"
     ]
    }
   ],
   "source": [
    "best_model_tree = None\n",
    "best_accuracy_tree = 0.75\n",
    "best_depth_tree = 0\n",
    "for depth in range(1, 11):\n",
    "    model = DecisionTreeClassifier(random_state=12345, max_depth=depth) \n",
    "    model.fit(features_train, target_train) \n",
    "    predictions_valid = model.predict(features_valid)\n",
    "    accuracy = accuracy_score(target_valid, predictions_valid)\n",
    "    if accuracy > best_accuracy_tree:\n",
    "        best_model_tree = model\n",
    "        best_accuracy_tree = accuracy\n",
    "        best_depth_tree = depth\n",
    "\n",
    "print(f'Лучший параметр Accuracy {best_accuracy_tree}, значение глубины дерева {best_depth_tree}')"
   ]
  },
  {
   "cell_type": "markdown",
   "metadata": {},
   "source": [
    "Найдем accuracy наилучшей модели на валидационной выборке для случайного леса"
   ]
  },
  {
   "cell_type": "code",
   "execution_count": 8,
   "metadata": {},
   "outputs": [
    {
     "name": "stdout",
     "output_type": "stream",
     "text": [
      "Лучший параметр Accuracy 0.8242612752721618, значение числа деревьев 24, значение глубины дерева 10\n"
     ]
    }
   ],
   "source": [
    "best_model_forest = None\n",
    "best_accuracy_forest = 0.75\n",
    "best_depth_forest = 0\n",
    "best_est = 0\n",
    "for est in range(1, 51):\n",
    "    for depth in range(1, 11):\n",
    "        model = RandomForestClassifier(random_state=12345, n_estimators=est, max_depth=depth) \n",
    "        model.fit(features_train, target_train) \n",
    "        predictions_valid = model.predict(features_valid)\n",
    "        accuracy = accuracy_score(target_valid, predictions_valid)\n",
    "        if accuracy > best_accuracy_forest:\n",
    "            best_model_forest = model\n",
    "            best_accuracy_forest = accuracy\n",
    "            best_depth_forest = depth\n",
    "            best_est = est\n",
    "\n",
    "print(f'Лучший параметр Accuracy {best_accuracy_forest}, \\\n",
    "значение числа деревьев {best_est}, значение глубины дерева {best_depth_forest}')"
   ]
  },
  {
   "cell_type": "markdown",
   "metadata": {},
   "source": [
    "Найдем accuracy наилучшей модели на валидационной выборке для логистической регресии "
   ]
  },
  {
   "cell_type": "code",
   "execution_count": 9,
   "metadata": {
    "scrolled": true
   },
   "outputs": [
    {
     "name": "stdout",
     "output_type": "stream",
     "text": [
      "Параметр Accuracy 0.7371695178849145\n"
     ]
    }
   ],
   "source": [
    "model_regression = LogisticRegression(random_state=12345, solver='lbfgs', max_iter=1000) \n",
    "model_regression.fit(features_train, target_train)\n",
    "predictions_valid = model_regression.predict(features_valid)\n",
    "accuracy_regression = accuracy_score(target_valid, predictions_valid)\n",
    "print('Параметр Accuracy', accuracy_regression)"
   ]
  },
  {
   "cell_type": "markdown",
   "metadata": {},
   "source": [
    "Больше всего правильных ответов предсказала модель случайного леса с параметрами значения числа деревьев - 24 и значением глубины дерева - 10. Она имеет больше разных значений гиперпараметров которых можно изменить в ходе исследования, но из-за этого страдает скорость нахождения наилучшей модели, а также скорость работы. "
   ]
  },
  {
   "cell_type": "markdown",
   "metadata": {},
   "source": [
    "## Проверьте модель на тестовой выборке"
   ]
  },
  {
   "cell_type": "markdown",
   "metadata": {},
   "source": [
    "Проверим качество наилучшей модели на тестовой выборке, а также объеденим обучающую и валидационную выборку"
   ]
  },
  {
   "cell_type": "code",
   "execution_count": 10,
   "metadata": {},
   "outputs": [
    {
     "name": "stdout",
     "output_type": "stream",
     "text": [
      "Параметр Accuracy 0.8180404354587869\n"
     ]
    }
   ],
   "source": [
    "features_train = pd.concat([features_train, features_valid], ignore_index=True)\n",
    "target_train = pd.concat([target_train, target_valid], ignore_index=True)\n",
    "best_model_forest.fit(features_train, target_train)\n",
    "predictions_test = best_model_forest.predict(features_test)\n",
    "accuracy = accuracy_score(target_test, predictions_test)\n",
    "print('Параметр Accuracy', accuracy)"
   ]
  },
  {
   "cell_type": "markdown",
   "metadata": {},
   "source": [
    "Точность предсказаний упала примерно на 1%."
   ]
  },
  {
   "cell_type": "markdown",
   "metadata": {},
   "source": [
    "## Проверьте модели на адекватность"
   ]
  },
  {
   "cell_type": "code",
   "execution_count": 11,
   "metadata": {
    "scrolled": true
   },
   "outputs": [
    {
     "name": "stdout",
     "output_type": "stream",
     "text": [
      "Accuracy Dummy модели для валидационной выборке 0.6936236391912908\n",
      "Accuracy Dummy модели для тестовой выборке 0.6936236391912908\n"
     ]
    }
   ],
   "source": [
    "dummy_model = DummyClassifier(strategy=\"most_frequent\", random_state=12345)\n",
    "dummy_model.fit(features_train, target_train) \n",
    "predictions_valid_dummy_model = dummy_model.predict(features_valid)\n",
    "accuracy = accuracy_score(target_valid, predictions_valid_dummy_model)\n",
    "print('Accuracy Dummy модели для валидационной выборке',accuracy)\n",
    "predictions_test_dummy_model = dummy_model.predict(features_test)\n",
    "accuracy = accuracy_score(target_test, predictions_test_dummy_model)\n",
    "print('Accuracy Dummy модели для тестовой выборке',accuracy)\n"
   ]
  },
  {
   "cell_type": "markdown",
   "metadata": {},
   "source": [
    "Если полученные предсказания выбранных моделей будут больше, чем полученные предсказания Dummy модели, то наши выбранные модели можно считать адекватными. "
   ]
  },
  {
   "cell_type": "code",
   "execution_count": null,
   "metadata": {},
   "outputs": [],
   "source": []
  }
 ],
 "metadata": {
  "ExecuteTimeLog": [
   {
    "duration": 406,
    "start_time": "2023-01-08T06:00:26.902Z"
   },
   {
    "duration": 147,
    "start_time": "2023-01-08T06:01:42.133Z"
   },
   {
    "duration": 10,
    "start_time": "2023-01-08T06:01:55.268Z"
   },
   {
    "duration": 15,
    "start_time": "2023-01-08T06:02:11.056Z"
   },
   {
    "duration": 10,
    "start_time": "2023-01-08T06:02:25.144Z"
   },
   {
    "duration": 9,
    "start_time": "2023-01-08T06:02:30.620Z"
   },
   {
    "duration": 10,
    "start_time": "2023-01-08T06:02:49.124Z"
   },
   {
    "duration": 10,
    "start_time": "2023-01-08T06:03:08.819Z"
   },
   {
    "duration": 9,
    "start_time": "2023-01-08T06:03:40.068Z"
   },
   {
    "duration": 607,
    "start_time": "2023-01-08T06:06:35.130Z"
   },
   {
    "duration": 3,
    "start_time": "2023-01-08T06:06:39.170Z"
   },
   {
    "duration": 3,
    "start_time": "2023-01-08T06:22:56.514Z"
   },
   {
    "duration": 43,
    "start_time": "2023-01-08T06:28:55.378Z"
   },
   {
    "duration": 48,
    "start_time": "2023-01-08T06:29:33.429Z"
   },
   {
    "duration": 50,
    "start_time": "2023-01-08T06:29:48.225Z"
   },
   {
    "duration": 91,
    "start_time": "2023-01-08T06:30:21.296Z"
   },
   {
    "duration": 2,
    "start_time": "2023-01-08T06:30:25.489Z"
   },
   {
    "duration": 13,
    "start_time": "2023-01-08T06:30:27.361Z"
   },
   {
    "duration": 12,
    "start_time": "2023-01-08T06:31:03.857Z"
   },
   {
    "duration": 932,
    "start_time": "2023-01-08T06:31:42.684Z"
   },
   {
    "duration": 41,
    "start_time": "2023-01-08T06:31:43.618Z"
   },
   {
    "duration": 10,
    "start_time": "2023-01-08T06:31:43.661Z"
   },
   {
    "duration": 11,
    "start_time": "2023-01-08T06:31:43.672Z"
   },
   {
    "duration": 96,
    "start_time": "2023-01-08T06:31:43.684Z"
   },
   {
    "duration": 6,
    "start_time": "2023-01-08T06:32:31.208Z"
   },
   {
    "duration": 5,
    "start_time": "2023-01-08T06:34:37.416Z"
   },
   {
    "duration": 4,
    "start_time": "2023-01-08T06:35:26.519Z"
   },
   {
    "duration": 3,
    "start_time": "2023-01-08T06:35:43.071Z"
   },
   {
    "duration": 4,
    "start_time": "2023-01-08T06:35:53.470Z"
   },
   {
    "duration": 4,
    "start_time": "2023-01-08T06:36:31.041Z"
   },
   {
    "duration": 53,
    "start_time": "2023-01-08T06:37:26.790Z"
   },
   {
    "duration": 7,
    "start_time": "2023-01-08T06:37:30.413Z"
   },
   {
    "duration": 5,
    "start_time": "2023-01-08T06:38:19.814Z"
   },
   {
    "duration": 9,
    "start_time": "2023-01-08T06:46:53.606Z"
   },
   {
    "duration": 9,
    "start_time": "2023-01-08T06:46:59.282Z"
   },
   {
    "duration": 44,
    "start_time": "2023-01-08T06:47:01.907Z"
   },
   {
    "duration": 64,
    "start_time": "2023-01-08T06:47:06.876Z"
   },
   {
    "duration": 60,
    "start_time": "2023-01-08T06:47:16.475Z"
   },
   {
    "duration": 60,
    "start_time": "2023-01-08T06:47:21.418Z"
   },
   {
    "duration": 57,
    "start_time": "2023-01-08T06:47:24.202Z"
   },
   {
    "duration": 57,
    "start_time": "2023-01-08T06:47:39.250Z"
   },
   {
    "duration": 19,
    "start_time": "2023-01-08T06:55:30.519Z"
   },
   {
    "duration": 1030,
    "start_time": "2023-01-08T06:55:47.119Z"
   },
   {
    "duration": 45,
    "start_time": "2023-01-08T06:55:48.150Z"
   },
   {
    "duration": 13,
    "start_time": "2023-01-08T06:55:48.196Z"
   },
   {
    "duration": 6,
    "start_time": "2023-01-08T06:55:48.211Z"
   },
   {
    "duration": 12,
    "start_time": "2023-01-08T06:55:48.218Z"
   },
   {
    "duration": 12,
    "start_time": "2023-01-08T06:55:48.232Z"
   },
   {
    "duration": 97,
    "start_time": "2023-01-08T06:55:48.246Z"
   },
   {
    "duration": 14,
    "start_time": "2023-01-08T06:56:17.063Z"
   },
   {
    "duration": 57,
    "start_time": "2023-01-08T07:00:09.133Z"
   },
   {
    "duration": 54,
    "start_time": "2023-01-08T07:01:51.189Z"
   },
   {
    "duration": 3,
    "start_time": "2023-01-08T07:03:16.772Z"
   },
   {
    "duration": 1033,
    "start_time": "2023-01-08T07:03:21.247Z"
   },
   {
    "duration": 44,
    "start_time": "2023-01-08T07:03:22.282Z"
   },
   {
    "duration": 10,
    "start_time": "2023-01-08T07:03:22.328Z"
   },
   {
    "duration": 8,
    "start_time": "2023-01-08T07:03:22.339Z"
   },
   {
    "duration": 6,
    "start_time": "2023-01-08T07:03:22.349Z"
   },
   {
    "duration": 5,
    "start_time": "2023-01-08T07:03:22.357Z"
   },
   {
    "duration": 70,
    "start_time": "2023-01-08T07:03:22.364Z"
   },
   {
    "duration": 61,
    "start_time": "2023-01-08T07:03:34.532Z"
   },
   {
    "duration": 59,
    "start_time": "2023-01-08T07:04:03.004Z"
   },
   {
    "duration": 4,
    "start_time": "2023-01-08T07:04:15.100Z"
   },
   {
    "duration": 71,
    "start_time": "2023-01-08T07:04:16.708Z"
   },
   {
    "duration": 1057,
    "start_time": "2023-01-08T07:04:25.117Z"
   },
   {
    "duration": 53,
    "start_time": "2023-01-08T07:04:26.176Z"
   },
   {
    "duration": 15,
    "start_time": "2023-01-08T07:04:26.236Z"
   },
   {
    "duration": 12,
    "start_time": "2023-01-08T07:04:26.252Z"
   },
   {
    "duration": 44,
    "start_time": "2023-01-08T07:04:26.266Z"
   },
   {
    "duration": 21,
    "start_time": "2023-01-08T07:04:26.312Z"
   },
   {
    "duration": 83,
    "start_time": "2023-01-08T07:04:26.334Z"
   },
   {
    "duration": 57,
    "start_time": "2023-01-08T07:05:56.900Z"
   },
   {
    "duration": 61,
    "start_time": "2023-01-08T07:17:28.470Z"
   },
   {
    "duration": 52,
    "start_time": "2023-01-08T07:17:36.902Z"
   },
   {
    "duration": 57,
    "start_time": "2023-01-08T07:17:43.912Z"
   },
   {
    "duration": 1004,
    "start_time": "2023-01-08T07:20:50.545Z"
   },
   {
    "duration": 42,
    "start_time": "2023-01-08T07:20:51.551Z"
   },
   {
    "duration": 11,
    "start_time": "2023-01-08T07:20:51.594Z"
   },
   {
    "duration": 4,
    "start_time": "2023-01-08T07:20:51.607Z"
   },
   {
    "duration": 7,
    "start_time": "2023-01-08T07:20:51.613Z"
   },
   {
    "duration": 5,
    "start_time": "2023-01-08T07:20:51.622Z"
   },
   {
    "duration": 60,
    "start_time": "2023-01-08T07:20:51.628Z"
   },
   {
    "duration": 62,
    "start_time": "2023-01-08T07:20:59.060Z"
   },
   {
    "duration": 71,
    "start_time": "2023-01-08T07:21:15.693Z"
   },
   {
    "duration": 61,
    "start_time": "2023-01-08T07:24:51.904Z"
   },
   {
    "duration": 105,
    "start_time": "2023-01-08T07:25:01.202Z"
   },
   {
    "duration": 445,
    "start_time": "2023-01-08T07:25:07.459Z"
   },
   {
    "duration": 61,
    "start_time": "2023-01-08T07:25:12.283Z"
   },
   {
    "duration": 62,
    "start_time": "2023-01-08T07:28:53.953Z"
   },
   {
    "duration": 29536,
    "start_time": "2023-01-08T07:33:33.328Z"
   },
   {
    "duration": 29132,
    "start_time": "2023-01-08T07:39:05.914Z"
   },
   {
    "duration": 93,
    "start_time": "2023-01-08T07:40:47.318Z"
   },
   {
    "duration": 3,
    "start_time": "2023-01-08T07:41:13.468Z"
   },
   {
    "duration": 44,
    "start_time": "2023-01-08T07:41:16.940Z"
   },
   {
    "duration": 44,
    "start_time": "2023-01-08T07:41:30.999Z"
   },
   {
    "duration": 37,
    "start_time": "2023-01-08T07:41:47.644Z"
   },
   {
    "duration": 37,
    "start_time": "2023-01-08T07:42:08.067Z"
   },
   {
    "duration": 35,
    "start_time": "2023-01-08T07:42:15.302Z"
   },
   {
    "duration": 38,
    "start_time": "2023-01-08T07:43:23.340Z"
   },
   {
    "duration": 40,
    "start_time": "2023-01-08T07:44:06.419Z"
   },
   {
    "duration": 45,
    "start_time": "2023-01-08T07:44:42.058Z"
   },
   {
    "duration": 35,
    "start_time": "2023-01-08T07:44:46.754Z"
   },
   {
    "duration": 40,
    "start_time": "2023-01-08T07:44:51.818Z"
   },
   {
    "duration": 39,
    "start_time": "2023-01-08T07:45:09.701Z"
   },
   {
    "duration": 48,
    "start_time": "2023-01-08T07:46:28.185Z"
   },
   {
    "duration": 62,
    "start_time": "2023-01-08T07:59:59.853Z"
   },
   {
    "duration": 56,
    "start_time": "2023-01-08T08:00:41.421Z"
   },
   {
    "duration": 29144,
    "start_time": "2023-01-08T08:00:48.019Z"
   },
   {
    "duration": 162,
    "start_time": "2023-01-08T08:01:55.059Z"
   },
   {
    "duration": 162,
    "start_time": "2023-01-08T08:02:06.940Z"
   },
   {
    "duration": 143,
    "start_time": "2023-01-08T08:02:16.044Z"
   },
   {
    "duration": 50,
    "start_time": "2023-01-08T08:02:21.307Z"
   },
   {
    "duration": 39,
    "start_time": "2023-01-08T08:02:36.048Z"
   },
   {
    "duration": 7,
    "start_time": "2023-01-08T08:04:05.908Z"
   },
   {
    "duration": 7,
    "start_time": "2023-01-08T08:04:32.200Z"
   },
   {
    "duration": 5,
    "start_time": "2023-01-08T08:05:41.554Z"
   },
   {
    "duration": 6,
    "start_time": "2023-01-08T08:05:49.048Z"
   },
   {
    "duration": 7,
    "start_time": "2023-01-08T08:06:15.204Z"
   },
   {
    "duration": 51,
    "start_time": "2023-01-08T08:19:06.540Z"
   },
   {
    "duration": 41,
    "start_time": "2023-01-08T08:19:10.780Z"
   },
   {
    "duration": 7,
    "start_time": "2023-01-08T08:19:49.556Z"
   },
   {
    "duration": 8,
    "start_time": "2023-01-08T08:20:42.067Z"
   },
   {
    "duration": 40,
    "start_time": "2023-01-08T08:21:01.203Z"
   },
   {
    "duration": 36,
    "start_time": "2023-01-08T08:22:41.550Z"
   },
   {
    "duration": 5,
    "start_time": "2023-01-08T08:23:04.451Z"
   },
   {
    "duration": 6,
    "start_time": "2023-01-08T08:23:13.051Z"
   },
   {
    "duration": 1022,
    "start_time": "2023-01-08T08:25:43.937Z"
   },
   {
    "duration": 41,
    "start_time": "2023-01-08T08:25:44.960Z"
   },
   {
    "duration": 11,
    "start_time": "2023-01-08T08:25:45.002Z"
   },
   {
    "duration": 8,
    "start_time": "2023-01-08T08:25:45.015Z"
   },
   {
    "duration": 11,
    "start_time": "2023-01-08T08:25:45.025Z"
   },
   {
    "duration": 5,
    "start_time": "2023-01-08T08:25:45.037Z"
   },
   {
    "duration": 71,
    "start_time": "2023-01-08T08:25:45.044Z"
   },
   {
    "duration": 29278,
    "start_time": "2023-01-08T08:25:45.117Z"
   },
   {
    "duration": 44,
    "start_time": "2023-01-08T08:26:14.397Z"
   },
   {
    "duration": 7,
    "start_time": "2023-01-08T08:26:14.443Z"
   },
   {
    "duration": 9,
    "start_time": "2023-01-08T08:26:14.452Z"
   },
   {
    "duration": 11,
    "start_time": "2023-01-08T08:26:14.462Z"
   },
   {
    "duration": 3,
    "start_time": "2023-01-08T08:29:57.898Z"
   },
   {
    "duration": 4,
    "start_time": "2023-01-08T08:33:55.776Z"
   },
   {
    "duration": 5,
    "start_time": "2023-01-08T08:34:05.359Z"
   },
   {
    "duration": 5,
    "start_time": "2023-01-08T08:34:14.431Z"
   },
   {
    "duration": 9,
    "start_time": "2023-01-08T08:35:46.697Z"
   },
   {
    "duration": 6,
    "start_time": "2023-01-08T08:37:54.029Z"
   },
   {
    "duration": 582,
    "start_time": "2023-01-08T08:39:40.229Z"
   },
   {
    "duration": 760,
    "start_time": "2023-01-08T08:40:11.053Z"
   },
   {
    "duration": 17,
    "start_time": "2023-01-08T08:40:30.340Z"
   },
   {
    "duration": 526,
    "start_time": "2023-01-08T08:40:42.553Z"
   },
   {
    "duration": 528,
    "start_time": "2023-01-08T08:40:50.416Z"
   },
   {
    "duration": 10,
    "start_time": "2023-01-08T08:41:00.528Z"
   },
   {
    "duration": 14,
    "start_time": "2023-01-08T08:41:53.115Z"
   },
   {
    "duration": 13,
    "start_time": "2023-01-08T08:43:18.667Z"
   },
   {
    "duration": 10,
    "start_time": "2023-01-08T08:43:51.787Z"
   },
   {
    "duration": 10,
    "start_time": "2023-01-08T08:44:19.514Z"
   },
   {
    "duration": 561,
    "start_time": "2023-01-08T08:45:00.441Z"
   },
   {
    "duration": 9,
    "start_time": "2023-01-08T08:45:16.826Z"
   },
   {
    "duration": 6,
    "start_time": "2023-01-08T08:46:40.585Z"
   },
   {
    "duration": 7,
    "start_time": "2023-01-08T08:49:08.968Z"
   },
   {
    "duration": 7,
    "start_time": "2023-01-08T08:50:52.808Z"
   },
   {
    "duration": 1107,
    "start_time": "2023-01-08T08:53:08.003Z"
   },
   {
    "duration": 43,
    "start_time": "2023-01-08T08:53:09.112Z"
   },
   {
    "duration": 12,
    "start_time": "2023-01-08T08:53:09.156Z"
   },
   {
    "duration": 7,
    "start_time": "2023-01-08T08:53:09.169Z"
   },
   {
    "duration": 12,
    "start_time": "2023-01-08T08:53:09.179Z"
   },
   {
    "duration": 4,
    "start_time": "2023-01-08T08:53:09.193Z"
   },
   {
    "duration": 64,
    "start_time": "2023-01-08T08:53:09.199Z"
   },
   {
    "duration": 29959,
    "start_time": "2023-01-08T08:53:09.264Z"
   },
   {
    "duration": 32,
    "start_time": "2023-01-08T08:53:39.225Z"
   },
   {
    "duration": 7,
    "start_time": "2023-01-08T08:53:39.259Z"
   },
   {
    "duration": 9,
    "start_time": "2023-01-08T08:53:39.267Z"
   },
   {
    "duration": 6,
    "start_time": "2023-01-08T08:53:39.277Z"
   },
   {
    "duration": 32,
    "start_time": "2023-01-08T08:53:39.284Z"
   },
   {
    "duration": 29809,
    "start_time": "2023-01-08T08:53:57.286Z"
   },
   {
    "duration": 29896,
    "start_time": "2023-01-08T08:54:34.742Z"
   },
   {
    "duration": 29676,
    "start_time": "2023-01-08T08:55:12.724Z"
   },
   {
    "duration": 1644,
    "start_time": "2023-01-08T09:13:36.849Z"
   },
   {
    "duration": 50,
    "start_time": "2023-01-08T09:13:38.495Z"
   },
   {
    "duration": 10,
    "start_time": "2023-01-08T09:13:38.547Z"
   },
   {
    "duration": 6,
    "start_time": "2023-01-08T09:13:38.559Z"
   },
   {
    "duration": 11,
    "start_time": "2023-01-08T09:13:38.566Z"
   },
   {
    "duration": 5,
    "start_time": "2023-01-08T09:13:38.579Z"
   },
   {
    "duration": 99,
    "start_time": "2023-01-08T09:13:38.585Z"
   },
   {
    "duration": 34747,
    "start_time": "2023-01-08T09:13:38.686Z"
   },
   {
    "duration": 96,
    "start_time": "2023-01-08T09:14:13.435Z"
   },
   {
    "duration": 7,
    "start_time": "2023-01-08T09:14:13.534Z"
   },
   {
    "duration": 10,
    "start_time": "2023-01-08T09:14:13.542Z"
   },
   {
    "duration": 7,
    "start_time": "2023-01-08T09:14:13.554Z"
   },
   {
    "duration": 8,
    "start_time": "2023-01-08T09:14:13.563Z"
   },
   {
    "duration": 98,
    "start_time": "2023-01-08T10:31:00.904Z"
   },
   {
    "duration": 11,
    "start_time": "2023-01-08T10:31:34.100Z"
   },
   {
    "duration": 4,
    "start_time": "2023-01-08T10:31:35.902Z"
   },
   {
    "duration": 1068,
    "start_time": "2023-01-08T10:33:03.515Z"
   },
   {
    "duration": 41,
    "start_time": "2023-01-08T10:33:04.585Z"
   },
   {
    "duration": 11,
    "start_time": "2023-01-08T10:33:04.627Z"
   },
   {
    "duration": 6,
    "start_time": "2023-01-08T10:33:04.640Z"
   },
   {
    "duration": 10,
    "start_time": "2023-01-08T10:33:04.647Z"
   },
   {
    "duration": 4,
    "start_time": "2023-01-08T10:33:04.658Z"
   },
   {
    "duration": 81,
    "start_time": "2023-01-08T10:33:04.664Z"
   },
   {
    "duration": 30193,
    "start_time": "2023-01-08T10:33:04.746Z"
   },
   {
    "duration": 28,
    "start_time": "2023-01-08T10:33:34.941Z"
   },
   {
    "duration": 6,
    "start_time": "2023-01-08T10:33:34.971Z"
   },
   {
    "duration": 12,
    "start_time": "2023-01-08T10:33:34.978Z"
   },
   {
    "duration": 24,
    "start_time": "2023-01-08T10:33:34.991Z"
   },
   {
    "duration": 8,
    "start_time": "2023-01-08T10:33:35.017Z"
   },
   {
    "duration": 173,
    "start_time": "2023-01-08T10:40:27.068Z"
   },
   {
    "duration": 205,
    "start_time": "2023-01-08T10:40:38.491Z"
   },
   {
    "duration": 236,
    "start_time": "2023-01-08T10:40:46.738Z"
   },
   {
    "duration": 246,
    "start_time": "2023-01-08T10:40:51.443Z"
   },
   {
    "duration": 1024,
    "start_time": "2023-01-08T10:41:05.071Z"
   },
   {
    "duration": 42,
    "start_time": "2023-01-08T10:41:06.097Z"
   },
   {
    "duration": 9,
    "start_time": "2023-01-08T10:41:06.140Z"
   },
   {
    "duration": 7,
    "start_time": "2023-01-08T10:41:06.151Z"
   },
   {
    "duration": 10,
    "start_time": "2023-01-08T10:41:06.160Z"
   },
   {
    "duration": 7,
    "start_time": "2023-01-08T10:41:06.171Z"
   },
   {
    "duration": 64,
    "start_time": "2023-01-08T10:41:06.179Z"
   },
   {
    "duration": 29124,
    "start_time": "2023-01-08T10:41:06.251Z"
   },
   {
    "duration": 27,
    "start_time": "2023-01-08T10:41:35.377Z"
   },
   {
    "duration": 189,
    "start_time": "2023-01-08T10:41:35.406Z"
   },
   {
    "duration": 6,
    "start_time": "2023-01-08T10:41:35.596Z"
   },
   {
    "duration": 16,
    "start_time": "2023-01-08T10:41:35.603Z"
   },
   {
    "duration": 6,
    "start_time": "2023-01-08T10:41:35.620Z"
   },
   {
    "duration": 9,
    "start_time": "2023-01-08T10:41:35.628Z"
   },
   {
    "duration": 1004,
    "start_time": "2023-01-08T10:42:06.549Z"
   },
   {
    "duration": 41,
    "start_time": "2023-01-08T10:42:07.554Z"
   },
   {
    "duration": 11,
    "start_time": "2023-01-08T10:42:07.597Z"
   },
   {
    "duration": 3,
    "start_time": "2023-01-08T10:42:07.610Z"
   },
   {
    "duration": 11,
    "start_time": "2023-01-08T10:42:07.615Z"
   },
   {
    "duration": 7,
    "start_time": "2023-01-08T10:42:07.627Z"
   },
   {
    "duration": 62,
    "start_time": "2023-01-08T10:42:07.635Z"
   },
   {
    "duration": 29763,
    "start_time": "2023-01-08T10:42:07.699Z"
   },
   {
    "duration": 31,
    "start_time": "2023-01-08T10:42:37.464Z"
   },
   {
    "duration": 197,
    "start_time": "2023-01-08T10:42:37.497Z"
   },
   {
    "duration": 6,
    "start_time": "2023-01-08T10:42:37.696Z"
   },
   {
    "duration": 20,
    "start_time": "2023-01-08T10:42:37.704Z"
   },
   {
    "duration": 6,
    "start_time": "2023-01-08T10:42:37.725Z"
   },
   {
    "duration": 13,
    "start_time": "2023-01-08T10:42:37.732Z"
   },
   {
    "duration": 1003,
    "start_time": "2023-01-08T10:49:28.266Z"
   },
   {
    "duration": 41,
    "start_time": "2023-01-08T10:49:29.271Z"
   },
   {
    "duration": 10,
    "start_time": "2023-01-08T10:49:29.313Z"
   },
   {
    "duration": 7,
    "start_time": "2023-01-08T10:49:29.325Z"
   },
   {
    "duration": 9,
    "start_time": "2023-01-08T10:49:29.333Z"
   },
   {
    "duration": 4,
    "start_time": "2023-01-08T10:49:29.344Z"
   },
   {
    "duration": 72,
    "start_time": "2023-01-08T10:49:29.349Z"
   },
   {
    "duration": 29800,
    "start_time": "2023-01-08T10:49:29.422Z"
   },
   {
    "duration": 29,
    "start_time": "2023-01-08T10:49:59.223Z"
   },
   {
    "duration": 190,
    "start_time": "2023-01-08T10:49:59.253Z"
   },
   {
    "duration": 6,
    "start_time": "2023-01-08T10:49:59.445Z"
   },
   {
    "duration": 102,
    "start_time": "2023-01-08T10:53:52.700Z"
   },
   {
    "duration": 1065,
    "start_time": "2023-01-08T10:54:46.171Z"
   },
   {
    "duration": 41,
    "start_time": "2023-01-08T10:54:47.238Z"
   },
   {
    "duration": 11,
    "start_time": "2023-01-08T10:54:47.281Z"
   },
   {
    "duration": 7,
    "start_time": "2023-01-08T10:54:47.294Z"
   },
   {
    "duration": 9,
    "start_time": "2023-01-08T10:54:47.303Z"
   },
   {
    "duration": 4,
    "start_time": "2023-01-08T10:54:47.314Z"
   },
   {
    "duration": 68,
    "start_time": "2023-01-08T10:54:47.320Z"
   },
   {
    "duration": 29429,
    "start_time": "2023-01-08T10:54:47.390Z"
   },
   {
    "duration": 29,
    "start_time": "2023-01-08T10:55:16.821Z"
   },
   {
    "duration": 105,
    "start_time": "2023-01-08T10:55:16.851Z"
   },
   {
    "duration": 6,
    "start_time": "2023-01-08T10:55:16.957Z"
   }
  ],
  "kernelspec": {
   "display_name": "Python 3 (ipykernel)",
   "language": "python",
   "name": "python3"
  },
  "language_info": {
   "codemirror_mode": {
    "name": "ipython",
    "version": 3
   },
   "file_extension": ".py",
   "mimetype": "text/x-python",
   "name": "python",
   "nbconvert_exporter": "python",
   "pygments_lexer": "ipython3",
   "version": "3.9.13"
  },
  "toc": {
   "base_numbering": 1,
   "nav_menu": {},
   "number_sections": true,
   "sideBar": true,
   "skip_h1_title": true,
   "title_cell": "Table of Contents",
   "title_sidebar": "Contents",
   "toc_cell": false,
   "toc_position": {},
   "toc_section_display": true,
   "toc_window_display": false
  }
 },
 "nbformat": 4,
 "nbformat_minor": 2
}
